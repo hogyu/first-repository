{
 "cells": [
  {
   "cell_type": "code",
   "execution_count": 19,
   "metadata": {},
   "outputs": [],
   "source": [
    "# 라이브러리 \n",
    "import pandas as pd\n",
    "import numpy as np"
   ]
  },
  {
   "cell_type": "code",
   "execution_count": 10,
   "metadata": {},
   "outputs": [],
   "source": [
    "# 데이터 불러오기\n",
    "train = pd.read_csv('C:\\\\Users\\\\pjkpc\\\\Desktop\\\\파이썬\\\\20230324\\\\train.csv')\n",
    "test = pd.read_csv('C:\\\\Users\\\\pjkpc\\\\Desktop\\\\파이썬\\\\20230324\\\\test.csv')\n",
    "\n",
    "\n"
   ]
  },
  {
   "cell_type": "code",
   "execution_count": 20,
   "metadata": {},
   "outputs": [
    {
     "data": {
      "text/plain": [
       "((39116, 16), (9779, 15))"
      ]
     },
     "execution_count": 20,
     "metadata": {},
     "output_type": "execute_result"
    }
   ],
   "source": [
    "#데이터 크기\n",
    "train.shape, test.shape"
   ]
  },
  {
   "cell_type": "code",
   "execution_count": 12,
   "metadata": {},
   "outputs": [
    {
     "data": {
      "text/html": [
       "<div>\n",
       "<style scoped>\n",
       "    .dataframe tbody tr th:only-of-type {\n",
       "        vertical-align: middle;\n",
       "    }\n",
       "\n",
       "    .dataframe tbody tr th {\n",
       "        vertical-align: top;\n",
       "    }\n",
       "\n",
       "    .dataframe thead th {\n",
       "        text-align: right;\n",
       "    }\n",
       "</style>\n",
       "<table border=\"1\" class=\"dataframe\">\n",
       "  <thead>\n",
       "    <tr style=\"text-align: right;\">\n",
       "      <th></th>\n",
       "      <th>id</th>\n",
       "      <th>name</th>\n",
       "      <th>host_id</th>\n",
       "      <th>host_name</th>\n",
       "      <th>neighbourhood_group</th>\n",
       "      <th>neighbourhood</th>\n",
       "      <th>latitude</th>\n",
       "      <th>longitude</th>\n",
       "      <th>room_type</th>\n",
       "      <th>price</th>\n",
       "      <th>minimum_nights</th>\n",
       "      <th>number_of_reviews</th>\n",
       "      <th>last_review</th>\n",
       "      <th>reviews_per_month</th>\n",
       "      <th>calculated_host_listings_count</th>\n",
       "      <th>availability_365</th>\n",
       "    </tr>\n",
       "  </thead>\n",
       "  <tbody>\n",
       "    <tr>\n",
       "      <th>0</th>\n",
       "      <td>14963583</td>\n",
       "      <td>Room in South Harlem near Central Park</td>\n",
       "      <td>94219511</td>\n",
       "      <td>Gilles</td>\n",
       "      <td>Manhattan</td>\n",
       "      <td>Harlem</td>\n",
       "      <td>40.80167</td>\n",
       "      <td>-73.95781</td>\n",
       "      <td>Private room</td>\n",
       "      <td>70</td>\n",
       "      <td>3</td>\n",
       "      <td>3</td>\n",
       "      <td>2019-01-01</td>\n",
       "      <td>0.09</td>\n",
       "      <td>2</td>\n",
       "      <td>0</td>\n",
       "    </tr>\n",
       "    <tr>\n",
       "      <th>1</th>\n",
       "      <td>9458704</td>\n",
       "      <td>Large 1BR Apartment, near Times Sq (2nd Floor)</td>\n",
       "      <td>49015331</td>\n",
       "      <td>Iradj</td>\n",
       "      <td>Manhattan</td>\n",
       "      <td>Hell's Kitchen</td>\n",
       "      <td>40.76037</td>\n",
       "      <td>-73.99016</td>\n",
       "      <td>Entire home/apt</td>\n",
       "      <td>240</td>\n",
       "      <td>2</td>\n",
       "      <td>64</td>\n",
       "      <td>2019-06-30</td>\n",
       "      <td>1.68</td>\n",
       "      <td>2</td>\n",
       "      <td>262</td>\n",
       "    </tr>\n",
       "  </tbody>\n",
       "</table>\n",
       "</div>"
      ],
      "text/plain": [
       "         id                                            name   host_id  \\\n",
       "0  14963583          Room in South Harlem near Central Park  94219511   \n",
       "1   9458704  Large 1BR Apartment, near Times Sq (2nd Floor)  49015331   \n",
       "\n",
       "  host_name neighbourhood_group   neighbourhood  latitude  longitude  \\\n",
       "0    Gilles           Manhattan          Harlem  40.80167  -73.95781   \n",
       "1     Iradj           Manhattan  Hell's Kitchen  40.76037  -73.99016   \n",
       "\n",
       "         room_type  price  minimum_nights  number_of_reviews last_review  \\\n",
       "0     Private room     70               3                  3  2019-01-01   \n",
       "1  Entire home/apt    240               2                 64  2019-06-30   \n",
       "\n",
       "   reviews_per_month  calculated_host_listings_count  availability_365  \n",
       "0               0.09                               2                 0  \n",
       "1               1.68                               2               262  "
      ]
     },
     "metadata": {},
     "output_type": "display_data"
    },
    {
     "data": {
      "text/html": [
       "<div>\n",
       "<style scoped>\n",
       "    .dataframe tbody tr th:only-of-type {\n",
       "        vertical-align: middle;\n",
       "    }\n",
       "\n",
       "    .dataframe tbody tr th {\n",
       "        vertical-align: top;\n",
       "    }\n",
       "\n",
       "    .dataframe thead th {\n",
       "        text-align: right;\n",
       "    }\n",
       "</style>\n",
       "<table border=\"1\" class=\"dataframe\">\n",
       "  <thead>\n",
       "    <tr style=\"text-align: right;\">\n",
       "      <th></th>\n",
       "      <th>id</th>\n",
       "      <th>name</th>\n",
       "      <th>host_id</th>\n",
       "      <th>host_name</th>\n",
       "      <th>neighbourhood_group</th>\n",
       "      <th>neighbourhood</th>\n",
       "      <th>latitude</th>\n",
       "      <th>longitude</th>\n",
       "      <th>room_type</th>\n",
       "      <th>minimum_nights</th>\n",
       "      <th>number_of_reviews</th>\n",
       "      <th>last_review</th>\n",
       "      <th>reviews_per_month</th>\n",
       "      <th>calculated_host_listings_count</th>\n",
       "      <th>availability_365</th>\n",
       "    </tr>\n",
       "  </thead>\n",
       "  <tbody>\n",
       "    <tr>\n",
       "      <th>0</th>\n",
       "      <td>30913224</td>\n",
       "      <td>Cozy and Sunny Room Williamsburg, Luxury Building</td>\n",
       "      <td>33771081</td>\n",
       "      <td>Rémy</td>\n",
       "      <td>Brooklyn</td>\n",
       "      <td>Williamsburg</td>\n",
       "      <td>40.70959</td>\n",
       "      <td>-73.94652</td>\n",
       "      <td>Private room</td>\n",
       "      <td>3</td>\n",
       "      <td>2</td>\n",
       "      <td>2019-05-08</td>\n",
       "      <td>0.31</td>\n",
       "      <td>1</td>\n",
       "      <td>0</td>\n",
       "    </tr>\n",
       "    <tr>\n",
       "      <th>1</th>\n",
       "      <td>971247</td>\n",
       "      <td>Sunny Artist Live/Work Apartment</td>\n",
       "      <td>5308961</td>\n",
       "      <td>Larry</td>\n",
       "      <td>Manhattan</td>\n",
       "      <td>Upper West Side</td>\n",
       "      <td>40.79368</td>\n",
       "      <td>-73.96487</td>\n",
       "      <td>Entire home/apt</td>\n",
       "      <td>3</td>\n",
       "      <td>159</td>\n",
       "      <td>2019-07-03</td>\n",
       "      <td>2.09</td>\n",
       "      <td>1</td>\n",
       "      <td>244</td>\n",
       "    </tr>\n",
       "  </tbody>\n",
       "</table>\n",
       "</div>"
      ],
      "text/plain": [
       "         id                                               name   host_id  \\\n",
       "0  30913224  Cozy and Sunny Room Williamsburg, Luxury Building  33771081   \n",
       "1    971247                   Sunny Artist Live/Work Apartment   5308961   \n",
       "\n",
       "  host_name neighbourhood_group    neighbourhood  latitude  longitude  \\\n",
       "0      Rémy            Brooklyn     Williamsburg  40.70959  -73.94652   \n",
       "1     Larry           Manhattan  Upper West Side  40.79368  -73.96487   \n",
       "\n",
       "         room_type  minimum_nights  number_of_reviews last_review  \\\n",
       "0     Private room               3                  2  2019-05-08   \n",
       "1  Entire home/apt               3                159  2019-07-03   \n",
       "\n",
       "   reviews_per_month  calculated_host_listings_count  availability_365  \n",
       "0               0.31                               1                 0  \n",
       "1               2.09                               1               244  "
      ]
     },
     "metadata": {},
     "output_type": "display_data"
    }
   ],
   "source": [
    "#데이터 샘플\n",
    "display(train.head(2))\n",
    "display(test.head(2))"
   ]
  },
  {
   "cell_type": "code",
   "execution_count": 21,
   "metadata": {},
   "outputs": [
    {
     "name": "stdout",
     "output_type": "stream",
     "text": [
      "<class 'pandas.core.frame.DataFrame'>\n",
      "RangeIndex: 39116 entries, 0 to 39115\n",
      "Data columns (total 16 columns):\n",
      " #   Column                          Non-Null Count  Dtype  \n",
      "---  ------                          --------------  -----  \n",
      " 0   id                              39116 non-null  int64  \n",
      " 1   name                            39104 non-null  object \n",
      " 2   host_id                         39116 non-null  int64  \n",
      " 3   host_name                       39099 non-null  object \n",
      " 4   neighbourhood_group             39116 non-null  object \n",
      " 5   neighbourhood                   39116 non-null  object \n",
      " 6   latitude                        39116 non-null  float64\n",
      " 7   longitude                       39116 non-null  float64\n",
      " 8   room_type                       39116 non-null  object \n",
      " 9   price                           39116 non-null  int64  \n",
      " 10  minimum_nights                  39116 non-null  int64  \n",
      " 11  number_of_reviews               39116 non-null  int64  \n",
      " 12  last_review                     31122 non-null  object \n",
      " 13  reviews_per_month               31122 non-null  float64\n",
      " 14  calculated_host_listings_count  39116 non-null  int64  \n",
      " 15  availability_365                39116 non-null  int64  \n",
      "dtypes: float64(3), int64(7), object(6)\n",
      "memory usage: 4.8+ MB\n"
     ]
    }
   ],
   "source": [
    "#데이터 타입\n",
    "train.info()"
   ]
  },
  {
   "cell_type": "code",
   "execution_count": 22,
   "metadata": {},
   "outputs": [
    {
     "data": {
      "text/plain": [
       "id                                   0\n",
       "name                                12\n",
       "host_id                              0\n",
       "host_name                           17\n",
       "neighbourhood_group                  0\n",
       "neighbourhood                        0\n",
       "latitude                             0\n",
       "longitude                            0\n",
       "room_type                            0\n",
       "price                                0\n",
       "minimum_nights                       0\n",
       "number_of_reviews                    0\n",
       "last_review                       7994\n",
       "reviews_per_month                 7994\n",
       "calculated_host_listings_count       0\n",
       "availability_365                     0\n",
       "dtype: int64"
      ]
     },
     "execution_count": 22,
     "metadata": {},
     "output_type": "execute_result"
    }
   ],
   "source": [
    "#결측지(train)\n",
    "train.isnull().sum()"
   ]
  },
  {
   "cell_type": "code",
   "execution_count": 23,
   "metadata": {},
   "outputs": [
    {
     "data": {
      "text/plain": [
       "id                                   0\n",
       "name                                 4\n",
       "host_id                              0\n",
       "host_name                            4\n",
       "neighbourhood_group                  0\n",
       "neighbourhood                        0\n",
       "latitude                             0\n",
       "longitude                            0\n",
       "room_type                            0\n",
       "minimum_nights                       0\n",
       "number_of_reviews                    0\n",
       "last_review                       2058\n",
       "reviews_per_month                 2058\n",
       "calculated_host_listings_count       0\n",
       "availability_365                     0\n",
       "dtype: int64"
      ]
     },
     "execution_count": 23,
     "metadata": {},
     "output_type": "execute_result"
    }
   ],
   "source": [
    "#결측지(test)\n",
    "test.isnull().sum()"
   ]
  },
  {
   "cell_type": "code",
   "execution_count": 24,
   "metadata": {},
   "outputs": [
    {
     "ename": "ImportError",
     "evalue": "matplotlib is required for plotting when the default backend \"matplotlib\" is selected.",
     "output_type": "error",
     "traceback": [
      "\u001b[1;31m---------------------------------------------------------------------------\u001b[0m",
      "\u001b[1;31mImportError\u001b[0m                               Traceback (most recent call last)",
      "Cell \u001b[1;32mIn[24], line 2\u001b[0m\n\u001b[0;32m      1\u001b[0m \u001b[39m# target(hist)\u001b[39;00m\n\u001b[1;32m----> 2\u001b[0m train[\u001b[39m'\u001b[39;49m\u001b[39mprice\u001b[39;49m\u001b[39m'\u001b[39;49m]\u001b[39m.\u001b[39;49mhist(bins\u001b[39m=\u001b[39;49m\u001b[39m100\u001b[39;49m)\n",
      "File \u001b[1;32mc:\\Users\\pjkpc\\AppData\\Local\\Programs\\Python\\Python311\\Lib\\site-packages\\pandas\\plotting\\_core.py:104\u001b[0m, in \u001b[0;36mhist_series\u001b[1;34m(self, by, ax, grid, xlabelsize, xrot, ylabelsize, yrot, figsize, bins, backend, legend, **kwargs)\u001b[0m\n\u001b[0;32m     38\u001b[0m \u001b[39mdef\u001b[39;00m \u001b[39mhist_series\u001b[39m(\n\u001b[0;32m     39\u001b[0m     \u001b[39mself\u001b[39m,\n\u001b[0;32m     40\u001b[0m     by\u001b[39m=\u001b[39m\u001b[39mNone\u001b[39;00m,\n\u001b[1;32m   (...)\u001b[0m\n\u001b[0;32m     51\u001b[0m     \u001b[39m*\u001b[39m\u001b[39m*\u001b[39mkwargs,\n\u001b[0;32m     52\u001b[0m ):\n\u001b[0;32m     53\u001b[0m \u001b[39m    \u001b[39m\u001b[39m\"\"\"\u001b[39;00m\n\u001b[0;32m     54\u001b[0m \u001b[39m    Draw histogram of the input series using matplotlib.\u001b[39;00m\n\u001b[0;32m     55\u001b[0m \n\u001b[1;32m   (...)\u001b[0m\n\u001b[0;32m    102\u001b[0m \u001b[39m    matplotlib.axes.Axes.hist : Plot a histogram using matplotlib.\u001b[39;00m\n\u001b[0;32m    103\u001b[0m \u001b[39m    \"\"\"\u001b[39;00m\n\u001b[1;32m--> 104\u001b[0m     plot_backend \u001b[39m=\u001b[39m _get_plot_backend(backend)\n\u001b[0;32m    105\u001b[0m     \u001b[39mreturn\u001b[39;00m plot_backend\u001b[39m.\u001b[39mhist_series(\n\u001b[0;32m    106\u001b[0m         \u001b[39mself\u001b[39m,\n\u001b[0;32m    107\u001b[0m         by\u001b[39m=\u001b[39mby,\n\u001b[1;32m   (...)\u001b[0m\n\u001b[0;32m    117\u001b[0m         \u001b[39m*\u001b[39m\u001b[39m*\u001b[39mkwargs,\n\u001b[0;32m    118\u001b[0m     )\n",
      "File \u001b[1;32mc:\\Users\\pjkpc\\AppData\\Local\\Programs\\Python\\Python311\\Lib\\site-packages\\pandas\\plotting\\_core.py:1886\u001b[0m, in \u001b[0;36m_get_plot_backend\u001b[1;34m(backend)\u001b[0m\n\u001b[0;32m   1883\u001b[0m \u001b[39mif\u001b[39;00m backend_str \u001b[39min\u001b[39;00m _backends:\n\u001b[0;32m   1884\u001b[0m     \u001b[39mreturn\u001b[39;00m _backends[backend_str]\n\u001b[1;32m-> 1886\u001b[0m module \u001b[39m=\u001b[39m _load_backend(backend_str)\n\u001b[0;32m   1887\u001b[0m _backends[backend_str] \u001b[39m=\u001b[39m module\n\u001b[0;32m   1888\u001b[0m \u001b[39mreturn\u001b[39;00m module\n",
      "File \u001b[1;32mc:\\Users\\pjkpc\\AppData\\Local\\Programs\\Python\\Python311\\Lib\\site-packages\\pandas\\plotting\\_core.py:1817\u001b[0m, in \u001b[0;36m_load_backend\u001b[1;34m(backend)\u001b[0m\n\u001b[0;32m   1815\u001b[0m         module \u001b[39m=\u001b[39m importlib\u001b[39m.\u001b[39mimport_module(\u001b[39m\"\u001b[39m\u001b[39mpandas.plotting._matplotlib\u001b[39m\u001b[39m\"\u001b[39m)\n\u001b[0;32m   1816\u001b[0m     \u001b[39mexcept\u001b[39;00m \u001b[39mImportError\u001b[39;00m:\n\u001b[1;32m-> 1817\u001b[0m         \u001b[39mraise\u001b[39;00m \u001b[39mImportError\u001b[39;00m(\n\u001b[0;32m   1818\u001b[0m             \u001b[39m\"\u001b[39m\u001b[39mmatplotlib is required for plotting when the \u001b[39m\u001b[39m\"\u001b[39m\n\u001b[0;32m   1819\u001b[0m             \u001b[39m'\u001b[39m\u001b[39mdefault backend \u001b[39m\u001b[39m\"\u001b[39m\u001b[39mmatplotlib\u001b[39m\u001b[39m\"\u001b[39m\u001b[39m is selected.\u001b[39m\u001b[39m'\u001b[39m\n\u001b[0;32m   1820\u001b[0m         ) \u001b[39mfrom\u001b[39;00m \u001b[39mNone\u001b[39m\n\u001b[0;32m   1821\u001b[0m     \u001b[39mreturn\u001b[39;00m module\n\u001b[0;32m   1823\u001b[0m found_backend \u001b[39m=\u001b[39m \u001b[39mFalse\u001b[39;00m\n",
      "\u001b[1;31mImportError\u001b[0m: matplotlib is required for plotting when the default backend \"matplotlib\" is selected."
     ]
    }
   ],
   "source": [
    "# target(hist)\n",
    "train['price'].hist(bins=100)"
   ]
  },
  {
   "cell_type": "code",
   "execution_count": null,
   "metadata": {},
   "outputs": [],
   "source": []
  },
  {
   "cell_type": "code",
   "execution_count": 25,
   "metadata": {},
   "outputs": [
    {
     "data": {
      "text/plain": [
       "<bound method NDFrame.describe of 0         70\n",
       "1        240\n",
       "2        150\n",
       "3         85\n",
       "4         44\n",
       "        ... \n",
       "39111    185\n",
       "39112     50\n",
       "39113    120\n",
       "39114    165\n",
       "39115    200\n",
       "Name: price, Length: 39116, dtype: int64>"
      ]
     },
     "execution_count": 25,
     "metadata": {},
     "output_type": "execute_result"
    }
   ],
   "source": [
    "#target(describe)\n",
    "train['price'].describe"
   ]
  },
  {
   "cell_type": "code",
   "execution_count": 26,
   "metadata": {},
   "outputs": [
    {
     "data": {
      "text/plain": [
       "219517861    256\n",
       "107434423    181\n",
       "30283594      99\n",
       "137358866     82\n",
       "12243051      80\n",
       "            ... \n",
       "73369106       1\n",
       "26620387       1\n",
       "176660539      1\n",
       "26004891       1\n",
       "2609535        1\n",
       "Name: host_id, Length: 30845, dtype: int64"
      ]
     },
     "execution_count": 26,
     "metadata": {},
     "output_type": "execute_result"
    }
   ],
   "source": [
    "#피처(host_id)\n",
    "train['host_id'].value_counts()"
   ]
  },
  {
   "attachments": {},
   "cell_type": "markdown",
   "metadata": {},
   "source": [
    "3. 데이터 전처리"
   ]
  },
  {
   "cell_type": "code",
   "execution_count": 27,
   "metadata": {},
   "outputs": [],
   "source": [
    "# 결측치 컬럼 삭제 (last_review)\n",
    "train = train.drop('last_review', axis=1)\n",
    "test = test.drop('last_review', axis=1)"
   ]
  },
  {
   "cell_type": "code",
   "execution_count": 28,
   "metadata": {},
   "outputs": [],
   "source": [
    "# 결측치 채우기\n",
    "train['reviews_per_month'] = train['reviews_per_month'].fillna(0)\n",
    "test['reviews_per_month'] = test['reviews_per_month'].fillna(0)"
   ]
  },
  {
   "cell_type": "code",
   "execution_count": 29,
   "metadata": {},
   "outputs": [
    {
     "data": {
      "text/plain": [
       "id                                 0\n",
       "name                              12\n",
       "host_id                            0\n",
       "host_name                         17\n",
       "neighbourhood_group                0\n",
       "neighbourhood                      0\n",
       "latitude                           0\n",
       "longitude                          0\n",
       "room_type                          0\n",
       "price                              0\n",
       "minimum_nights                     0\n",
       "number_of_reviews                  0\n",
       "reviews_per_month                  0\n",
       "calculated_host_listings_count     0\n",
       "availability_365                   0\n",
       "dtype: int64"
      ]
     },
     "execution_count": 29,
     "metadata": {},
     "output_type": "execute_result"
    }
   ],
   "source": [
    "# 결측치 확인\n",
    "train.isnull().sum()"
   ]
  },
  {
   "cell_type": "code",
   "execution_count": 30,
   "metadata": {},
   "outputs": [],
   "source": [
    "#가격 값 복사\n",
    "target = train['price']\n",
    "train = train.drop('price', axis=1)"
   ]
  },
  {
   "cell_type": "code",
   "execution_count": 31,
   "metadata": {},
   "outputs": [],
   "source": [
    "#수치형 피처 선택\n",
    "cols = [\n",
    "        'host_id',\n",
    "        'latitude', \n",
    "        'longitude', \n",
    "        'minimum_nights',\n",
    "        'number_of_reviews', \n",
    "        'reviews_per_month',\n",
    "        'calculated_host_listings_count',\n",
    "        'availability_365'\n",
    "        ]\n",
    "\n",
    "train = train[cols]\n",
    "test = test[cols]"
   ]
  },
  {
   "cell_type": "code",
   "execution_count": 62,
   "metadata": {},
   "outputs": [
    {
     "name": "stdout",
     "output_type": "stream",
     "text": [
      "Collecting scikit-learn\n",
      "  Downloading scikit_learn-1.2.2-cp311-cp311-win_amd64.whl (8.3 MB)\n",
      "     ---------------------------------------- 0.0/8.3 MB ? eta -:--:--\n",
      "     -- ------------------------------------- 0.5/8.3 MB 9.8 MB/s eta 0:00:01\n",
      "     ---- ----------------------------------- 1.0/8.3 MB 12.7 MB/s eta 0:00:01\n",
      "     ------- -------------------------------- 1.6/8.3 MB 12.5 MB/s eta 0:00:01\n",
      "     ---------- ----------------------------- 2.1/8.3 MB 12.2 MB/s eta 0:00:01\n",
      "     ------------ --------------------------- 2.6/8.3 MB 12.0 MB/s eta 0:00:01\n",
      "     --------------- ------------------------ 3.2/8.3 MB 11.9 MB/s eta 0:00:01\n",
      "     ------------------ --------------------- 3.7/8.3 MB 11.9 MB/s eta 0:00:01\n",
      "     -------------------- ------------------- 4.3/8.3 MB 11.8 MB/s eta 0:00:01\n",
      "     ----------------------- ---------------- 4.8/8.3 MB 11.8 MB/s eta 0:00:01\n",
      "     ------------------------- -------------- 5.4/8.3 MB 11.8 MB/s eta 0:00:01\n",
      "     ---------------------------- ----------- 5.9/8.3 MB 11.8 MB/s eta 0:00:01\n",
      "     ------------------------------ --------- 6.4/8.3 MB 11.7 MB/s eta 0:00:01\n",
      "     --------------------------------- ------ 6.9/8.3 MB 11.6 MB/s eta 0:00:01\n",
      "     ----------------------------------- ---- 7.4/8.3 MB 11.5 MB/s eta 0:00:01\n",
      "     -------------------------------------- - 8.0/8.3 MB 11.6 MB/s eta 0:00:01\n",
      "     ---------------------------------------  8.3/8.3 MB 11.7 MB/s eta 0:00:01\n",
      "     ---------------------------------------- 8.3/8.3 MB 11.2 MB/s eta 0:00:00\n",
      "Requirement already satisfied: numpy>=1.17.3 in c:\\users\\pjkpc\\appdata\\local\\programs\\python\\python311\\lib\\site-packages (from scikit-learn) (1.24.2)\n",
      "Collecting scipy>=1.3.2\n",
      "  Downloading scipy-1.10.1-cp311-cp311-win_amd64.whl (42.2 MB)\n",
      "     ---------------------------------------- 0.0/42.2 MB ? eta -:--:--\n",
      "     ---------------------------------------- 0.5/42.2 MB 16.2 MB/s eta 0:00:03\n",
      "     - -------------------------------------- 1.1/42.2 MB 13.9 MB/s eta 0:00:03\n",
      "     - -------------------------------------- 1.6/42.2 MB 13.1 MB/s eta 0:00:04\n",
      "     -- ------------------------------------- 2.2/42.2 MB 12.6 MB/s eta 0:00:04\n",
      "     -- ------------------------------------- 2.7/42.2 MB 12.4 MB/s eta 0:00:04\n",
      "     --- ------------------------------------ 3.3/42.2 MB 12.3 MB/s eta 0:00:04\n",
      "     --- ------------------------------------ 3.8/42.2 MB 12.2 MB/s eta 0:00:04\n",
      "     ---- ----------------------------------- 4.3/42.2 MB 12.0 MB/s eta 0:00:04\n",
      "     ---- ----------------------------------- 4.9/42.2 MB 11.9 MB/s eta 0:00:04\n",
      "     ----- ---------------------------------- 5.4/42.2 MB 11.9 MB/s eta 0:00:04\n",
      "     ----- ---------------------------------- 6.0/42.2 MB 11.9 MB/s eta 0:00:04\n",
      "     ------ --------------------------------- 6.5/42.2 MB 11.9 MB/s eta 0:00:04\n",
      "     ------ --------------------------------- 7.0/42.2 MB 11.8 MB/s eta 0:00:03\n",
      "     ------- -------------------------------- 7.6/42.2 MB 11.8 MB/s eta 0:00:03\n",
      "     ------- -------------------------------- 8.1/42.2 MB 11.8 MB/s eta 0:00:03\n",
      "     -------- ------------------------------- 8.7/42.2 MB 11.8 MB/s eta 0:00:03\n",
      "     -------- ------------------------------- 9.2/42.2 MB 11.8 MB/s eta 0:00:03\n",
      "     --------- ------------------------------ 9.7/42.2 MB 11.8 MB/s eta 0:00:03\n",
      "     --------- ----------------------------- 10.3/42.2 MB 11.7 MB/s eta 0:00:03\n",
      "     ---------- ---------------------------- 10.8/42.2 MB 11.7 MB/s eta 0:00:03\n",
      "     ---------- ---------------------------- 11.4/42.2 MB 11.9 MB/s eta 0:00:03\n",
      "     ----------- --------------------------- 11.9/42.2 MB 11.7 MB/s eta 0:00:03\n",
      "     ----------- --------------------------- 12.5/42.2 MB 11.9 MB/s eta 0:00:03\n",
      "     ------------ -------------------------- 13.0/42.2 MB 11.9 MB/s eta 0:00:03\n",
      "     ------------ -------------------------- 13.5/42.2 MB 11.7 MB/s eta 0:00:03\n",
      "     ------------- ------------------------- 14.1/42.2 MB 11.7 MB/s eta 0:00:03\n",
      "     ------------- ------------------------- 14.6/42.2 MB 11.9 MB/s eta 0:00:03\n",
      "     -------------- ------------------------ 15.2/42.2 MB 11.9 MB/s eta 0:00:03\n",
      "     -------------- ------------------------ 15.7/42.2 MB 11.7 MB/s eta 0:00:03\n",
      "     -------------- ------------------------ 16.2/42.2 MB 11.7 MB/s eta 0:00:03\n",
      "     --------------- ----------------------- 16.8/42.2 MB 11.7 MB/s eta 0:00:03\n",
      "     --------------- ----------------------- 17.3/42.2 MB 11.7 MB/s eta 0:00:03\n",
      "     ---------------- ---------------------- 17.9/42.2 MB 11.7 MB/s eta 0:00:03\n",
      "     ----------------- --------------------- 18.4/42.2 MB 11.7 MB/s eta 0:00:03\n",
      "     ----------------- --------------------- 19.0/42.2 MB 11.7 MB/s eta 0:00:02\n",
      "     ----------------- --------------------- 19.5/42.2 MB 11.7 MB/s eta 0:00:02\n",
      "     ------------------ -------------------- 20.0/42.2 MB 11.7 MB/s eta 0:00:02\n",
      "     ------------------ -------------------- 20.6/42.2 MB 11.9 MB/s eta 0:00:02\n",
      "     ------------------- ------------------- 21.1/42.2 MB 11.9 MB/s eta 0:00:02\n",
      "     ------------------- ------------------- 21.7/42.2 MB 11.9 MB/s eta 0:00:02\n",
      "     -------------------- ------------------ 22.2/42.2 MB 11.9 MB/s eta 0:00:02\n",
      "     -------------------- ------------------ 22.7/42.2 MB 11.9 MB/s eta 0:00:02\n",
      "     --------------------- ----------------- 23.3/42.2 MB 11.9 MB/s eta 0:00:02\n",
      "     ---------------------- ---------------- 23.8/42.2 MB 11.9 MB/s eta 0:00:02\n",
      "     ---------------------- ---------------- 24.3/42.2 MB 11.7 MB/s eta 0:00:02\n",
      "     ---------------------- ---------------- 24.9/42.2 MB 11.7 MB/s eta 0:00:02\n",
      "     ----------------------- --------------- 25.4/42.2 MB 11.7 MB/s eta 0:00:02\n",
      "     ----------------------- --------------- 25.9/42.2 MB 11.7 MB/s eta 0:00:02\n",
      "     ------------------------ -------------- 26.5/42.2 MB 11.7 MB/s eta 0:00:02\n",
      "     ------------------------ -------------- 27.0/42.2 MB 11.7 MB/s eta 0:00:02\n",
      "     ------------------------- ------------- 27.6/42.2 MB 11.7 MB/s eta 0:00:02\n",
      "     ------------------------- ------------- 28.1/42.2 MB 11.7 MB/s eta 0:00:02\n",
      "     -------------------------- ------------ 28.7/42.2 MB 11.7 MB/s eta 0:00:02\n",
      "     -------------------------- ------------ 29.2/42.2 MB 11.7 MB/s eta 0:00:02\n",
      "     --------------------------- ----------- 29.8/42.2 MB 11.7 MB/s eta 0:00:02\n",
      "     --------------------------- ----------- 30.3/42.2 MB 11.7 MB/s eta 0:00:02\n",
      "     ---------------------------- ---------- 30.9/42.2 MB 11.7 MB/s eta 0:00:01\n",
      "     ---------------------------- ---------- 31.4/42.2 MB 11.7 MB/s eta 0:00:01\n",
      "     ----------------------------- --------- 31.9/42.2 MB 11.7 MB/s eta 0:00:01\n",
      "     ----------------------------- --------- 32.5/42.2 MB 11.7 MB/s eta 0:00:01\n",
      "     ------------------------------ -------- 33.0/42.2 MB 11.7 MB/s eta 0:00:01\n",
      "     ------------------------------ -------- 33.4/42.2 MB 11.7 MB/s eta 0:00:01\n",
      "     ------------------------------- ------- 33.9/42.2 MB 11.7 MB/s eta 0:00:01\n",
      "     ------------------------------- ------- 34.5/42.2 MB 11.7 MB/s eta 0:00:01\n",
      "     -------------------------------- ------ 35.0/42.2 MB 11.5 MB/s eta 0:00:01\n",
      "     -------------------------------- ------ 35.6/42.2 MB 11.7 MB/s eta 0:00:01\n",
      "     --------------------------------- ----- 36.0/42.2 MB 11.5 MB/s eta 0:00:01\n",
      "     --------------------------------- ----- 36.7/42.2 MB 11.7 MB/s eta 0:00:01\n",
      "     ---------------------------------- ---- 37.2/42.2 MB 11.7 MB/s eta 0:00:01\n",
      "     ---------------------------------- ---- 37.7/42.2 MB 11.5 MB/s eta 0:00:01\n",
      "     ----------------------------------- --- 38.3/42.2 MB 11.5 MB/s eta 0:00:01\n",
      "     ----------------------------------- --- 38.8/42.2 MB 11.5 MB/s eta 0:00:01\n",
      "     ------------------------------------ -- 39.4/42.2 MB 11.5 MB/s eta 0:00:01\n",
      "     ------------------------------------ -- 39.9/42.2 MB 11.5 MB/s eta 0:00:01\n",
      "     ------------------------------------- - 40.4/42.2 MB 11.5 MB/s eta 0:00:01\n",
      "     ------------------------------------- - 41.0/42.2 MB 11.5 MB/s eta 0:00:01\n",
      "     --------------------------------------  41.5/42.2 MB 11.5 MB/s eta 0:00:01\n",
      "     --------------------------------------  42.1/42.2 MB 11.5 MB/s eta 0:00:01\n",
      "     --------------------------------------  42.2/42.2 MB 11.5 MB/s eta 0:00:01\n",
      "     --------------------------------------  42.2/42.2 MB 11.5 MB/s eta 0:00:01\n",
      "     --------------------------------------- 42.2/42.2 MB 10.4 MB/s eta 0:00:00\n",
      "Collecting joblib>=1.1.1\n",
      "  Downloading joblib-1.2.0-py3-none-any.whl (297 kB)\n",
      "     ---------------------------------------- 0.0/298.0 kB ? eta -:--:--\n",
      "     ------------------------------------- 298.0/298.0 kB 18.0 MB/s eta 0:00:00\n",
      "Collecting threadpoolctl>=2.0.0\n",
      "  Downloading threadpoolctl-3.1.0-py3-none-any.whl (14 kB)\n",
      "Installing collected packages: threadpoolctl, scipy, joblib, scikit-learn\n",
      "Successfully installed joblib-1.2.0 scikit-learn-1.2.2 scipy-1.10.1 threadpoolctl-3.1.0\n"
     ]
    }
   ],
   "source": [
    "!pip install -U scikit-learn"
   ]
  },
  {
   "cell_type": "code",
   "execution_count": 63,
   "metadata": {},
   "outputs": [
    {
     "data": {
      "text/plain": [
       "((31292, 8), (7824, 8), (31292,), (7824,))"
      ]
     },
     "execution_count": 63,
     "metadata": {},
     "output_type": "execute_result"
    }
   ],
   "source": [
    "# 검증 데이터 분리\n",
    "from sklearn.model_selection import train_test_split\n",
    "\n",
    "X_train, X_val, y_train, y_val = train_test_split(train, target, test_size=0.2, random_state=2022)\n",
    "X_train.shape, X_val.shape, y_train.shape, y_val.shape"
   ]
  },
  {
   "cell_type": "code",
   "execution_count": 64,
   "metadata": {},
   "outputs": [
    {
     "data": {
      "text/plain": [
       "32000.462372605223"
      ]
     },
     "execution_count": 64,
     "metadata": {},
     "output_type": "execute_result"
    }
   ],
   "source": [
    "# 머신러닝(회귀)\n",
    "from sklearn.linear_model import LinearRegression\n",
    "from sklearn.metrics import mean_squared_error\n",
    "\n",
    "model = LinearRegression()\n",
    "model.fit(X_train, y_train)\n",
    "pred = model.predict(X_val)\n",
    "mean_squared_error(y_val, pred)"
   ]
  },
  {
   "cell_type": "code",
   "execution_count": 65,
   "metadata": {},
   "outputs": [
    {
     "name": "stderr",
     "output_type": "stream",
     "text": [
      "c:\\Users\\pjkpc\\AppData\\Local\\Programs\\Python\\Python311\\Lib\\site-packages\\sklearn\\linear_model\\_ridge.py:216: LinAlgWarning: Ill-conditioned matrix (rcond=3.06762e-19): result may not be accurate.\n",
      "  return linalg.solve(A, Xy, assume_a=\"pos\", overwrite_a=True).T\n"
     ]
    },
    {
     "data": {
      "text/plain": [
       "32002.921365825398"
      ]
     },
     "execution_count": 65,
     "metadata": {},
     "output_type": "execute_result"
    }
   ],
   "source": [
    "# 릿지 회귀\n",
    "from sklearn.linear_model import Ridge\n",
    "\n",
    "model = Ridge()\n",
    "model.fit(X_train, y_train)\n",
    "pred = model.predict(X_val)\n",
    "mean_squared_error(y_val, pred)"
   ]
  },
  {
   "cell_type": "code",
   "execution_count": 66,
   "metadata": {},
   "outputs": [
    {
     "data": {
      "text/plain": [
       "32695.60621628489"
      ]
     },
     "execution_count": 66,
     "metadata": {},
     "output_type": "execute_result"
    }
   ],
   "source": [
    "# 라쏘 회귀\n",
    "from sklearn.linear_model import Lasso\n",
    "\n",
    "model = Lasso()\n",
    "model.fit(X_train, y_train)\n",
    "pred = model.predict(X_val)\n",
    "mean_squared_error(y_val, pred)"
   ]
  },
  {
   "cell_type": "code",
   "execution_count": 67,
   "metadata": {},
   "outputs": [
    {
     "data": {
      "text/plain": [
       "33521.06875602843"
      ]
     },
     "execution_count": 67,
     "metadata": {},
     "output_type": "execute_result"
    }
   ],
   "source": [
    "# 엘라스틱넷 회귀\n",
    "from sklearn.linear_model import ElasticNet\n",
    "\n",
    "model = ElasticNet()\n",
    "model.fit(X_train, y_train)\n",
    "pred = model.predict(X_val)\n",
    "mean_squared_error(y_val, pred)"
   ]
  },
  {
   "cell_type": "code",
   "execution_count": 68,
   "metadata": {},
   "outputs": [
    {
     "data": {
      "text/plain": [
       "31446.66249631902"
      ]
     },
     "execution_count": 68,
     "metadata": {},
     "output_type": "execute_result"
    }
   ],
   "source": [
    "# 랜덤포레스트\n",
    "from sklearn.ensemble import RandomForestRegressor\n",
    "\n",
    "model = RandomForestRegressor(random_state=2022)\n",
    "model.fit(X_train, y_train)\n",
    "pred = model.predict(X_val)\n",
    "mean_squared_error(y_val, pred)"
   ]
  },
  {
   "cell_type": "code",
   "execution_count": 70,
   "metadata": {},
   "outputs": [
    {
     "name": "stdout",
     "output_type": "stream",
     "text": [
      "Collecting xgboost\n",
      "  Downloading xgboost-1.7.4-py3-none-win_amd64.whl (89.1 MB)\n",
      "     ---------------------------------------- 0.0/89.1 MB ? eta -:--:--\n",
      "     ---------------------------------------- 0.5/89.1 MB 11.3 MB/s eta 0:00:08\n",
      "     ---------------------------------------- 1.1/89.1 MB 11.3 MB/s eta 0:00:08\n",
      "      --------------------------------------- 1.6/89.1 MB 11.5 MB/s eta 0:00:08\n",
      "      --------------------------------------- 2.2/89.1 MB 11.5 MB/s eta 0:00:08\n",
      "     - -------------------------------------- 2.7/89.1 MB 11.5 MB/s eta 0:00:08\n",
      "     - -------------------------------------- 3.3/89.1 MB 11.5 MB/s eta 0:00:08\n",
      "     - -------------------------------------- 3.8/89.1 MB 11.5 MB/s eta 0:00:08\n",
      "     - -------------------------------------- 4.3/89.1 MB 11.4 MB/s eta 0:00:08\n",
      "     -- ------------------------------------- 4.8/89.1 MB 11.9 MB/s eta 0:00:08\n",
      "     -- ------------------------------------- 5.4/89.1 MB 11.8 MB/s eta 0:00:08\n",
      "     -- ------------------------------------- 5.9/89.1 MB 11.8 MB/s eta 0:00:08\n",
      "     -- ------------------------------------- 6.5/89.1 MB 11.8 MB/s eta 0:00:08\n",
      "     --- ------------------------------------ 7.0/89.1 MB 11.8 MB/s eta 0:00:07\n",
      "     --- ------------------------------------ 7.5/89.1 MB 11.8 MB/s eta 0:00:07\n",
      "     --- ------------------------------------ 8.1/89.1 MB 11.7 MB/s eta 0:00:07\n",
      "     --- ------------------------------------ 8.6/89.1 MB 11.7 MB/s eta 0:00:07\n",
      "     ---- ----------------------------------- 9.2/89.1 MB 11.7 MB/s eta 0:00:07\n",
      "     ---- ----------------------------------- 9.6/89.1 MB 11.6 MB/s eta 0:00:07\n",
      "     ---- ---------------------------------- 10.1/89.1 MB 11.6 MB/s eta 0:00:07\n",
      "     ---- ---------------------------------- 10.7/89.1 MB 11.7 MB/s eta 0:00:07\n",
      "     ---- ---------------------------------- 11.2/89.1 MB 11.5 MB/s eta 0:00:07\n",
      "     ----- --------------------------------- 11.8/89.1 MB 11.5 MB/s eta 0:00:07\n",
      "     ----- --------------------------------- 12.3/89.1 MB 11.5 MB/s eta 0:00:07\n",
      "     ----- --------------------------------- 12.8/89.1 MB 11.5 MB/s eta 0:00:07\n",
      "     ----- --------------------------------- 13.4/89.1 MB 11.7 MB/s eta 0:00:07\n",
      "     ------ -------------------------------- 13.9/89.1 MB 11.7 MB/s eta 0:00:07\n",
      "     ------ -------------------------------- 14.4/89.1 MB 11.7 MB/s eta 0:00:07\n",
      "     ------ -------------------------------- 15.0/89.1 MB 11.7 MB/s eta 0:00:07\n",
      "     ------ -------------------------------- 15.5/89.1 MB 11.7 MB/s eta 0:00:07\n",
      "     ------- ------------------------------- 16.1/89.1 MB 11.7 MB/s eta 0:00:07\n",
      "     ------- ------------------------------- 16.6/89.1 MB 11.7 MB/s eta 0:00:07\n",
      "     ------- ------------------------------- 17.2/89.1 MB 11.7 MB/s eta 0:00:07\n",
      "     ------- ------------------------------- 17.7/89.1 MB 11.7 MB/s eta 0:00:07\n",
      "     ------- ------------------------------- 18.2/89.1 MB 11.7 MB/s eta 0:00:07\n",
      "     -------- ------------------------------ 18.8/89.1 MB 11.7 MB/s eta 0:00:07\n",
      "     -------- ------------------------------ 19.3/89.1 MB 11.7 MB/s eta 0:00:06\n",
      "     -------- ------------------------------ 19.9/89.1 MB 11.7 MB/s eta 0:00:06\n",
      "     -------- ------------------------------ 20.4/89.1 MB 11.7 MB/s eta 0:00:06\n",
      "     --------- ----------------------------- 21.0/89.1 MB 11.7 MB/s eta 0:00:06\n",
      "     --------- ----------------------------- 21.5/89.1 MB 11.9 MB/s eta 0:00:06\n",
      "     --------- ----------------------------- 22.0/89.1 MB 11.7 MB/s eta 0:00:06\n",
      "     --------- ----------------------------- 22.6/89.1 MB 11.7 MB/s eta 0:00:06\n",
      "     ---------- ---------------------------- 23.1/89.1 MB 11.7 MB/s eta 0:00:06\n",
      "     ---------- ---------------------------- 23.6/89.1 MB 11.9 MB/s eta 0:00:06\n",
      "     ---------- ---------------------------- 24.2/89.1 MB 11.9 MB/s eta 0:00:06\n",
      "     ---------- ---------------------------- 24.7/89.1 MB 11.9 MB/s eta 0:00:06\n",
      "     ----------- --------------------------- 25.3/89.1 MB 11.9 MB/s eta 0:00:06\n",
      "     ----------- --------------------------- 25.8/89.1 MB 11.9 MB/s eta 0:00:06\n",
      "     ----------- --------------------------- 26.4/89.1 MB 11.9 MB/s eta 0:00:06\n",
      "     ----------- --------------------------- 26.8/89.1 MB 11.7 MB/s eta 0:00:06\n",
      "     ----------- --------------------------- 27.2/89.1 MB 11.5 MB/s eta 0:00:06\n",
      "     ------------ -------------------------- 27.6/89.1 MB 11.3 MB/s eta 0:00:06\n",
      "     ------------ -------------------------- 28.1/89.1 MB 11.3 MB/s eta 0:00:06\n",
      "     ------------ -------------------------- 28.7/89.1 MB 11.3 MB/s eta 0:00:06\n",
      "     ------------ -------------------------- 29.2/89.1 MB 11.3 MB/s eta 0:00:06\n",
      "     ------------ -------------------------- 29.7/89.1 MB 11.3 MB/s eta 0:00:06\n",
      "     ------------- ------------------------- 30.3/89.1 MB 11.3 MB/s eta 0:00:06\n",
      "     ------------- ------------------------- 30.8/89.1 MB 11.3 MB/s eta 0:00:06\n",
      "     ------------- ------------------------- 31.4/89.1 MB 11.3 MB/s eta 0:00:06\n",
      "     ------------- ------------------------- 31.9/89.1 MB 11.3 MB/s eta 0:00:06\n",
      "     -------------- ------------------------ 32.5/89.1 MB 11.3 MB/s eta 0:00:06\n",
      "     -------------- ------------------------ 33.0/89.1 MB 11.3 MB/s eta 0:00:05\n",
      "     -------------- ------------------------ 33.6/89.1 MB 11.3 MB/s eta 0:00:05\n",
      "     -------------- ------------------------ 34.1/89.1 MB 11.3 MB/s eta 0:00:05\n",
      "     --------------- ----------------------- 34.7/89.1 MB 11.3 MB/s eta 0:00:05\n",
      "     --------------- ----------------------- 35.2/89.1 MB 11.3 MB/s eta 0:00:05\n",
      "     --------------- ----------------------- 35.7/89.1 MB 11.5 MB/s eta 0:00:05\n",
      "     --------------- ----------------------- 36.3/89.1 MB 11.5 MB/s eta 0:00:05\n",
      "     ---------------- ---------------------- 36.8/89.1 MB 11.5 MB/s eta 0:00:05\n",
      "     ---------------- ---------------------- 37.3/89.1 MB 11.5 MB/s eta 0:00:05\n",
      "     ---------------- ---------------------- 37.9/89.1 MB 11.9 MB/s eta 0:00:05\n",
      "     ---------------- ---------------------- 38.4/89.1 MB 11.9 MB/s eta 0:00:05\n",
      "     ----------------- --------------------- 39.0/89.1 MB 11.9 MB/s eta 0:00:05\n",
      "     ----------------- --------------------- 39.5/89.1 MB 11.7 MB/s eta 0:00:05\n",
      "     ----------------- --------------------- 40.1/89.1 MB 11.7 MB/s eta 0:00:05\n",
      "     ----------------- --------------------- 40.6/89.1 MB 11.7 MB/s eta 0:00:05\n",
      "     ------------------ -------------------- 41.2/89.1 MB 11.7 MB/s eta 0:00:05\n",
      "     ------------------ -------------------- 41.7/89.1 MB 11.7 MB/s eta 0:00:05\n",
      "     ------------------ -------------------- 42.2/89.1 MB 11.7 MB/s eta 0:00:05\n",
      "     ------------------ -------------------- 42.8/89.1 MB 11.7 MB/s eta 0:00:04\n",
      "     ------------------ -------------------- 43.3/89.1 MB 11.7 MB/s eta 0:00:04\n",
      "     ------------------- ------------------- 43.8/89.1 MB 11.7 MB/s eta 0:00:04\n",
      "     ------------------- ------------------- 44.4/89.1 MB 11.7 MB/s eta 0:00:04\n",
      "     ------------------- ------------------- 44.9/89.1 MB 11.7 MB/s eta 0:00:04\n",
      "     ------------------- ------------------- 45.5/89.1 MB 11.9 MB/s eta 0:00:04\n",
      "     -------------------- ------------------ 46.0/89.1 MB 11.9 MB/s eta 0:00:04\n",
      "     -------------------- ------------------ 46.6/89.1 MB 11.9 MB/s eta 0:00:04\n",
      "     -------------------- ------------------ 47.1/89.1 MB 11.9 MB/s eta 0:00:04\n",
      "     -------------------- ------------------ 47.7/89.1 MB 11.9 MB/s eta 0:00:04\n",
      "     --------------------- ----------------- 48.2/89.1 MB 11.9 MB/s eta 0:00:04\n",
      "     --------------------- ----------------- 48.8/89.1 MB 11.9 MB/s eta 0:00:04\n",
      "     --------------------- ----------------- 49.3/89.1 MB 11.9 MB/s eta 0:00:04\n",
      "     --------------------- ----------------- 49.8/89.1 MB 11.7 MB/s eta 0:00:04\n",
      "     ---------------------- ---------------- 50.4/89.1 MB 11.9 MB/s eta 0:00:04\n",
      "     ---------------------- ---------------- 50.9/89.1 MB 11.7 MB/s eta 0:00:04\n",
      "     ---------------------- ---------------- 51.5/89.1 MB 11.7 MB/s eta 0:00:04\n",
      "     ---------------------- ---------------- 52.0/89.1 MB 11.7 MB/s eta 0:00:04\n",
      "     ---------------------- ---------------- 52.5/89.1 MB 11.7 MB/s eta 0:00:04\n",
      "     ----------------------- --------------- 53.1/89.1 MB 11.7 MB/s eta 0:00:04\n",
      "     ----------------------- --------------- 53.6/89.1 MB 11.7 MB/s eta 0:00:04\n",
      "     ----------------------- --------------- 54.2/89.1 MB 11.7 MB/s eta 0:00:03\n",
      "     ----------------------- --------------- 54.7/89.1 MB 11.7 MB/s eta 0:00:03\n",
      "     ------------------------ -------------- 55.3/89.1 MB 11.7 MB/s eta 0:00:03\n",
      "     ------------------------ -------------- 55.8/89.1 MB 11.9 MB/s eta 0:00:03\n",
      "     ------------------------ -------------- 56.4/89.1 MB 11.7 MB/s eta 0:00:03\n",
      "     ------------------------ -------------- 56.9/89.1 MB 11.9 MB/s eta 0:00:03\n",
      "     ------------------------- ------------- 57.4/89.1 MB 11.7 MB/s eta 0:00:03\n",
      "     ------------------------- ------------- 58.0/89.1 MB 11.9 MB/s eta 0:00:03\n",
      "     ------------------------- ------------- 58.5/89.1 MB 11.9 MB/s eta 0:00:03\n",
      "     ------------------------- ------------- 59.1/89.1 MB 11.9 MB/s eta 0:00:03\n",
      "     -------------------------- ------------ 59.6/89.1 MB 11.9 MB/s eta 0:00:03\n",
      "     -------------------------- ------------ 60.1/89.1 MB 11.7 MB/s eta 0:00:03\n",
      "     -------------------------- ------------ 60.7/89.1 MB 11.7 MB/s eta 0:00:03\n",
      "     -------------------------- ------------ 61.2/89.1 MB 11.7 MB/s eta 0:00:03\n",
      "     --------------------------- ----------- 61.8/89.1 MB 11.7 MB/s eta 0:00:03\n",
      "     --------------------------- ----------- 62.0/89.1 MB 11.5 MB/s eta 0:00:03\n",
      "     --------------------------- ----------- 62.4/89.1 MB 11.5 MB/s eta 0:00:03\n",
      "     --------------------------- ----------- 62.9/89.1 MB 11.1 MB/s eta 0:00:03\n",
      "     --------------------------- ----------- 63.4/89.1 MB 11.1 MB/s eta 0:00:03\n",
      "     --------------------------- ----------- 64.0/89.1 MB 11.1 MB/s eta 0:00:03\n",
      "     ---------------------------- ---------- 64.5/89.1 MB 11.1 MB/s eta 0:00:03\n",
      "     ---------------------------- ---------- 65.1/89.1 MB 11.1 MB/s eta 0:00:03\n",
      "     ---------------------------- ---------- 65.5/89.1 MB 11.3 MB/s eta 0:00:03\n",
      "     ---------------------------- ---------- 66.1/89.1 MB 11.1 MB/s eta 0:00:03\n",
      "     ----------------------------- --------- 66.7/89.1 MB 11.1 MB/s eta 0:00:03\n",
      "     ----------------------------- --------- 67.1/89.1 MB 11.3 MB/s eta 0:00:02\n",
      "     ----------------------------- --------- 67.6/89.1 MB 11.1 MB/s eta 0:00:02\n",
      "     ----------------------------- --------- 68.1/89.1 MB 11.1 MB/s eta 0:00:02\n",
      "     ------------------------------ -------- 68.7/89.1 MB 11.1 MB/s eta 0:00:02\n",
      "     ------------------------------ -------- 69.1/89.1 MB 10.9 MB/s eta 0:00:02\n",
      "     ------------------------------ -------- 69.6/89.1 MB 11.1 MB/s eta 0:00:02\n",
      "     ------------------------------ -------- 70.2/89.1 MB 10.9 MB/s eta 0:00:02\n",
      "     ------------------------------ -------- 70.7/89.1 MB 10.9 MB/s eta 0:00:02\n",
      "     ------------------------------- ------- 71.3/89.1 MB 10.9 MB/s eta 0:00:02\n",
      "     ------------------------------- ------- 71.8/89.1 MB 10.9 MB/s eta 0:00:02\n",
      "     ------------------------------- ------- 72.3/89.1 MB 11.3 MB/s eta 0:00:02\n",
      "     ------------------------------- ------- 72.9/89.1 MB 11.3 MB/s eta 0:00:02\n",
      "     -------------------------------- ------ 73.4/89.1 MB 11.5 MB/s eta 0:00:02\n",
      "     -------------------------------- ------ 73.9/89.1 MB 11.5 MB/s eta 0:00:02\n",
      "     -------------------------------- ------ 74.4/89.1 MB 11.5 MB/s eta 0:00:02\n",
      "     -------------------------------- ------ 75.0/89.1 MB 11.3 MB/s eta 0:00:02\n",
      "     --------------------------------- ----- 75.6/89.1 MB 11.3 MB/s eta 0:00:02\n",
      "     --------------------------------- ----- 76.1/89.1 MB 11.5 MB/s eta 0:00:02\n",
      "     --------------------------------- ----- 76.7/89.1 MB 11.5 MB/s eta 0:00:02\n",
      "     --------------------------------- ----- 77.2/89.1 MB 11.5 MB/s eta 0:00:02\n",
      "     ---------------------------------- ---- 77.7/89.1 MB 11.7 MB/s eta 0:00:01\n",
      "     ---------------------------------- ---- 78.2/89.1 MB 11.7 MB/s eta 0:00:01\n",
      "     ---------------------------------- ---- 78.8/89.1 MB 11.7 MB/s eta 0:00:01\n",
      "     ---------------------------------- ---- 79.3/89.1 MB 11.7 MB/s eta 0:00:01\n",
      "     ---------------------------------- ---- 79.9/89.1 MB 11.7 MB/s eta 0:00:01\n",
      "     ----------------------------------- --- 80.4/89.1 MB 11.7 MB/s eta 0:00:01\n",
      "     ----------------------------------- --- 81.0/89.1 MB 11.7 MB/s eta 0:00:01\n",
      "     ----------------------------------- --- 81.5/89.1 MB 11.7 MB/s eta 0:00:01\n",
      "     ----------------------------------- --- 82.1/89.1 MB 11.7 MB/s eta 0:00:01\n",
      "     ------------------------------------ -- 82.6/89.1 MB 11.7 MB/s eta 0:00:01\n",
      "     ------------------------------------ -- 83.2/89.1 MB 11.7 MB/s eta 0:00:01\n",
      "     ------------------------------------ -- 83.7/89.1 MB 11.7 MB/s eta 0:00:01\n",
      "     ------------------------------------ -- 84.3/89.1 MB 11.7 MB/s eta 0:00:01\n",
      "     ------------------------------------- - 84.8/89.1 MB 11.7 MB/s eta 0:00:01\n",
      "     ------------------------------------- - 85.4/89.1 MB 11.7 MB/s eta 0:00:01\n",
      "     ------------------------------------- - 85.9/89.1 MB 11.7 MB/s eta 0:00:01\n",
      "     ------------------------------------- - 86.5/89.1 MB 11.7 MB/s eta 0:00:01\n",
      "     --------------------------------------  87.0/89.1 MB 11.7 MB/s eta 0:00:01\n",
      "     --------------------------------------  87.6/89.1 MB 11.7 MB/s eta 0:00:01\n",
      "     --------------------------------------  88.1/89.1 MB 11.7 MB/s eta 0:00:01\n",
      "     --------------------------------------  88.6/89.1 MB 11.7 MB/s eta 0:00:01\n",
      "     --------------------------------------  89.1/89.1 MB 11.9 MB/s eta 0:00:01\n",
      "     --------------------------------------  89.1/89.1 MB 11.9 MB/s eta 0:00:01\n",
      "     --------------------------------------  89.1/89.1 MB 11.9 MB/s eta 0:00:01\n",
      "     --------------------------------------  89.1/89.1 MB 11.9 MB/s eta 0:00:01\n",
      "     --------------------------------------  89.1/89.1 MB 11.9 MB/s eta 0:00:01\n",
      "     --------------------------------------  89.1/89.1 MB 11.9 MB/s eta 0:00:01\n",
      "     ---------------------------------------- 89.1/89.1 MB 8.7 MB/s eta 0:00:00\n",
      "Requirement already satisfied: numpy in c:\\users\\pjkpc\\appdata\\local\\programs\\python\\python311\\lib\\site-packages (from xgboost) (1.24.2)\n",
      "Requirement already satisfied: scipy in c:\\users\\pjkpc\\appdata\\local\\programs\\python\\python311\\lib\\site-packages (from xgboost) (1.10.1)\n",
      "Installing collected packages: xgboost\n",
      "Successfully installed xgboost-1.7.4\n"
     ]
    }
   ],
   "source": [
    "!pip install -U xgboost"
   ]
  },
  {
   "cell_type": "code",
   "execution_count": 71,
   "metadata": {},
   "outputs": [
    {
     "data": {
      "text/plain": [
       "31838.531510528188"
      ]
     },
     "execution_count": 71,
     "metadata": {},
     "output_type": "execute_result"
    }
   ],
   "source": [
    "# Xgboost\n",
    "from xgboost import XGBRegressor\n",
    "model = XGBRegressor(random_state=2022)\n",
    "\n",
    "model.fit(X_train, y_train)\n",
    "pred = model.predict(X_val)\n",
    "mean_squared_error(y_val, pred)"
   ]
  },
  {
   "cell_type": "code",
   "execution_count": 73,
   "metadata": {},
   "outputs": [
    {
     "data": {
      "text/plain": [
       "51046.25646764309"
      ]
     },
     "execution_count": 73,
     "metadata": {},
     "output_type": "execute_result"
    }
   ],
   "source": [
    "# test 데이터 예측 및 평가\n",
    "y_test = pd.read_csv('C:\\\\Users\\\\pjkpc\\\\Desktop\\\\파이썬\\\\20230324\\\\y_test.csv')\n",
    "\n",
    "# Xgboost\n",
    "pred = model.predict(test)\n",
    "mean_squared_error(y_test, pred)"
   ]
  }
 ],
 "metadata": {
  "kernelspec": {
   "display_name": "Python 3",
   "language": "python",
   "name": "python3"
  },
  "language_info": {
   "codemirror_mode": {
    "name": "ipython",
    "version": 3
   },
   "file_extension": ".py",
   "mimetype": "text/x-python",
   "name": "python",
   "nbconvert_exporter": "python",
   "pygments_lexer": "ipython3",
   "version": "3.11.2"
  },
  "orig_nbformat": 4
 },
 "nbformat": 4,
 "nbformat_minor": 2
}
