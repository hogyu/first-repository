{
  "nbformat": 4,
  "nbformat_minor": 0,
  "metadata": {
    "colab": {
      "provenance": [],
      "authorship_tag": "ABX9TyNX/qso2wvCtYbUd+iru1gN",
      "include_colab_link": true
    },
    "kernelspec": {
      "name": "python3",
      "display_name": "Python 3"
    },
    "language_info": {
      "name": "python"
    }
  },
  "cells": [
    {
      "cell_type": "markdown",
      "metadata": {
        "id": "view-in-github",
        "colab_type": "text"
      },
      "source": [
        "<a href=\"https://colab.research.google.com/github/hogyu/first-repository/blob/master/%ED%94%84%EB%A1%9C%EC%A0%9D%ED%8A%B8_1.ipynb\" target=\"_parent\"><img src=\"https://colab.research.google.com/assets/colab-badge.svg\" alt=\"Open In Colab\"/></a>"
      ]
    },
    {
      "cell_type": "markdown",
      "source": [
        "1. 전화번호 뒷자리 가려주는 프로그램"
      ],
      "metadata": {
        "id": "nmUfk2oo8Gc7"
      }
    },
    {
      "cell_type": "code",
      "source": [
        "def change_num(nums):\n",
        "    answer = nums.replace(nums[-4:], '####')\n",
        "    return answer\n",
        "\n",
        "change_num('010-7418-1001')"
      ],
      "metadata": {
        "colab": {
          "base_uri": "https://localhost:8080/",
          "height": 35
        },
        "id": "dhNbvdqp8K0c",
        "outputId": "d93b9855-5172-4b6c-9867-2f68744c1f6f"
      },
      "execution_count": null,
      "outputs": [
        {
          "output_type": "execute_result",
          "data": {
            "text/plain": [
              "'010-7418-####'"
            ],
            "application/vnd.google.colaboratory.intrinsic+json": {
              "type": "string"
            }
          },
          "metadata": {},
          "execution_count": 1
        }
      ]
    },
    {
      "cell_type": "markdown",
      "source": [
        "2. 리스트 평탄화"
      ],
      "metadata": {
        "id": "oSL-d-Mp8OHC"
      }
    },
    {
      "cell_type": "code",
      "source": [
        "def flatten(data):\n",
        "    output = []\n",
        "    for i in data:\n",
        "        if type(i) == list:\n",
        "            output += flatten(i)\n",
        "        else:\n",
        "            output.append(i)\n",
        "    return output\n",
        "\n",
        "a = [[1, 2], 3, [[4, 5, 6], 7], 8, 9]\n",
        "flatten(a)"
      ],
      "metadata": {
        "colab": {
          "base_uri": "https://localhost:8080/"
        },
        "id": "dX9eemyu8OWI",
        "outputId": "ab6a8576-450d-4f9f-856c-d33bdb86fbd2"
      },
      "execution_count": null,
      "outputs": [
        {
          "output_type": "execute_result",
          "data": {
            "text/plain": [
              "[1, 2, 3, 4, 5, 6, 7, 8, 9]"
            ]
          },
          "metadata": {},
          "execution_count": 2
        }
      ]
    },
    {
      "cell_type": "markdown",
      "source": [
        "3. 10 이하의 숫자들만 곱하는 함수"
      ],
      "metadata": {
        "id": "5NhTqhcx8Ojs"
      }
    },
    {
      "cell_type": "code",
      "source": [
        "def mul(*values):\n",
        "    output = 1\n",
        "    for num in values:\n",
        "        if num <= 10:\n",
        "            output *= num\n",
        "        else:\n",
        "            pass\n",
        "    return output\n",
        "\n",
        "mul(3, 5, 60, 10)"
      ],
      "metadata": {
        "colab": {
          "base_uri": "https://localhost:8080/"
        },
        "id": "bGOxV0hB8OtI",
        "outputId": "88adb3e6-372a-4001-ece3-040f9700e824"
      },
      "execution_count": null,
      "outputs": [
        {
          "output_type": "execute_result",
          "data": {
            "text/plain": [
              "150"
            ]
          },
          "metadata": {},
          "execution_count": 3
        }
      ]
    }
  ]
}